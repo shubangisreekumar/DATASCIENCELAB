{
 "cells": [
  {
   "cell_type": "code",
   "execution_count": 1,
   "id": "7f606ec4",
   "metadata": {},
   "outputs": [],
   "source": [
    "import numpy as np\n",
    "\n",
    "# Activation Functions\n",
    "def tanh(x):\n",
    "    return np.tanh(x)\n",
    "\n",
    "def d_tanh(x):\n",
    "    return 1 - np.square(np.tanh(x))\n",
    "\n",
    "def sigmoid(x):\n",
    "    return 1/(1 + np.exp(-x))\n",
    "\n",
    "def d_sigmoid(x):\n",
    "    return (1 - sigmoid(x)) * sigmoid(x)\n",
    "\n",
    "# Loss Functions \n",
    "def logloss(y, a):\n",
    "    return -(y*np.log(a) + (1-y)*np.log(1-a))\n",
    "\n",
    "def d_logloss(y, a):\n",
    "    return (a - y)/(a*(1 - a))"
   ]
  },
  {
   "cell_type": "code",
   "execution_count": 2,
   "id": "1d45a3e1",
   "metadata": {},
   "outputs": [],
   "source": [
    "# The layer class\n",
    "class Layer:\n",
    "\n",
    "    activationFunctions = {\n",
    "        'tanh': (tanh, d_tanh),\n",
    "        'sigmoid': (sigmoid, d_sigmoid)\n",
    "    }\n",
    "    learning_rate = 0.1\n",
    "\n",
    "    def __init__(self, inputs, neurons, activation):# inputs to a layer=the number of neurons in the previous layer \n",
    "                                                    # neurons- the number of neurons in a layer\n",
    "                                                    # activation - the particular activation for a layer\n",
    "        self.W = np.random.randn(neurons, inputs)\n",
    "        self.b = np.zeros((neurons, 1))\n",
    "        self.act, self.d_act = self.activationFunctions.get(activation)\n",
    "\n",
    "    def feedforward(self, A_prev):\n",
    "        self.A_prev = A_prev\n",
    "        self.Z = np.dot(self.W, self.A_prev) + self.b\n",
    "        self.A = self.act(self.Z)\n",
    "        return self.A\n",
    "\n",
    "    def backprop(self, dA):\n",
    "        dZ = np.multiply(self.d_act(self.Z), dA)\n",
    "        dA_prev = np.dot(self.W.T, dZ)\n",
    "        \n",
    "        dW = 1/dZ.shape[1] * np.dot(dZ, self.A_prev.T)\n",
    "        db = 1/dZ.shape[1] * np.sum(dZ, axis=1, keepdims=True)\n",
    "        \n",
    "        self.W = self.W - self.learning_rate * dW\n",
    "        self.b = self.b - self.learning_rate * db\n",
    "\n",
    "        return dA_prev"
   ]
  },
  {
   "cell_type": "code",
   "execution_count": 3,
   "id": "e62e600b",
   "metadata": {},
   "outputs": [],
   "source": [
    "x_train = np.array([[0, 0, 1, 1], [0, 1, 0, 1]]) # dim x m\n",
    "y_train = np.array([[0, 1, 1, 0]]) # 1 x m\n",
    "\n",
    "#dnn = DeepNeuralNetwork(sizes=[784, 128, 64, 10])\n",
    "\n",
    "m = 4\n",
    "epochs = 3000\n",
    "\n",
    "layers = [Layer(2, 3, 'tanh'), Layer(3, 1, 'sigmoid')]\n",
    "costs = [] # to plot graph \n",
    "\n",
    "for epoch in range(epochs):\n",
    "    A = x_train\n",
    "    for layer in layers:\n",
    "        A = layer.feedforward(A)\n",
    "\n",
    "    cost = 1/m * np.sum(logloss(y_train, A))\n",
    "    costs.append(cost)\n",
    "\n",
    "    dA = d_logloss(y_train, A)\n",
    "    for layer in reversed(layers):\n",
    "        dA = layer.backprop(dA)"
   ]
  },
  {
   "cell_type": "code",
   "execution_count": 4,
   "id": "d64a5131",
   "metadata": {},
   "outputs": [
    {
     "name": "stdout",
     "output_type": "stream",
     "text": [
      "[[0.0148489]]\n"
     ]
    }
   ],
   "source": [
    "# predicting\n",
    "A = np.array([[0], [0]]) # dim(=2) x m(=1)\n",
    "for layer in layers:\n",
    "    A = layer.feedforward(A)\n",
    "print(A)"
   ]
  },
  {
   "cell_type": "code",
   "execution_count": 5,
   "id": "c22a1ec9",
   "metadata": {},
   "outputs": [
    {
     "data": {
      "text/plain": [
       "[<matplotlib.lines.Line2D at 0x203466a9e50>]"
      ]
     },
     "execution_count": 5,
     "metadata": {},
     "output_type": "execute_result"
    },
    {
     "data": {
      "image/png": "[encoded data removed]",
      "text/plain": [
       "<Figure size 432x288 with 1 Axes>"
      ]
     },
     "metadata": {
      "needs_background": "light"
     },
     "output_type": "display_data"
    }
   ],
   "source": [
    "import matplotlib.pyplot as plt\n",
    "plt.plot(range(epochs), costs)"
   ]
  },
  {
   "cell_type": "code",
   "execution_count": null,
   "id": "ebd6eb79",
   "metadata": {},
   "outputs": [],
   "source": []
  }
 ],
 "metadata": {
  "kernelspec": {
   "display_name": "Python 3 (ipykernel)",
   "language": "python",
   "name": "python3"
  },
  "language_info": {
   "codemirror_mode": {
    "name": "ipython",
    "version": 3
   },
   "file_extension": ".py",
   "mimetype": "text/x-python",
   "name": "python",
   "nbconvert_exporter": "python",
   "pygments_lexer": "ipython3",
   "version": "3.9.7"
  }
 },
 "nbformat": 4,
 "nbformat_minor": 5
}
