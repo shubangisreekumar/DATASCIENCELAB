{
 "cells": [
  {
   "cell_type": "code",
   "execution_count": 1,
   "id": "7a1abfac",
   "metadata": {},
   "outputs": [],
   "source": [
    "#1. Review of Python Programming and Matrix Operations"
   ]
  },
  {
   "cell_type": "code",
   "execution_count": 6,
   "id": "441e293b",
   "metadata": {},
   "outputs": [],
   "source": [
    "#Qn.1.1\n",
    "import numpy as np"
   ]
  },
  {
   "cell_type": "code",
   "execution_count": 136,
   "id": "22832640",
   "metadata": {},
   "outputs": [],
   "source": [
    "#create two 3x4 matrices\n",
    "a=np.array([[1,2,3,0],[0,1,2,1],[2,1,0,3]])\n",
    "b=np.array([[2,1,1,0],[1,0,1,0],[3,0,2,0]])"
   ]
  },
  {
   "cell_type": "code",
   "execution_count": 137,
   "id": "08a2397b",
   "metadata": {},
   "outputs": [
    {
     "data": {
      "text/plain": [
       "array([[1, 2, 3, 0],\n",
       "       [0, 1, 2, 1],\n",
       "       [2, 1, 0, 3]])"
      ]
     },
     "execution_count": 137,
     "metadata": {},
     "output_type": "execute_result"
    }
   ],
   "source": [
    "a"
   ]
  },
  {
   "cell_type": "code",
   "execution_count": 138,
   "id": "8807d7d0",
   "metadata": {},
   "outputs": [
    {
     "data": {
      "text/plain": [
       "array([[2, 1, 1, 0],\n",
       "       [1, 0, 1, 0],\n",
       "       [3, 0, 2, 0]])"
      ]
     },
     "execution_count": 138,
     "metadata": {},
     "output_type": "execute_result"
    }
   ],
   "source": [
    "b"
   ]
  },
  {
   "cell_type": "code",
   "execution_count": 141,
   "id": "f8677c76",
   "metadata": {},
   "outputs": [
    {
     "name": "stdout",
     "output_type": "stream",
     "text": [
      "Dimension of a:  2\n"
     ]
    }
   ],
   "source": [
    "#Display the number of dimensions of the matrices a and b\n",
    "print(\"Dimension of a: \",a.ndim)"
   ]
  },
  {
   "cell_type": "code",
   "execution_count": 144,
   "id": "fcb4df18",
   "metadata": {},
   "outputs": [
    {
     "name": "stdout",
     "output_type": "stream",
     "text": [
      "Dimension of b:  2\n"
     ]
    }
   ],
   "source": [
    "print(\"Dimension of b: \",b.ndim)"
   ]
  },
  {
   "cell_type": "code",
   "execution_count": 146,
   "id": "2d708d23",
   "metadata": {},
   "outputs": [
    {
     "name": "stdout",
     "output_type": "stream",
     "text": [
      "Shape of matrix a:  (3, 4)\n"
     ]
    }
   ],
   "source": [
    "#find the shape of the matrices a and b\n",
    "print(\"Shape of matrix a: \",a.shape)"
   ]
  },
  {
   "cell_type": "code",
   "execution_count": 147,
   "id": "a785c37b",
   "metadata": {},
   "outputs": [
    {
     "name": "stdout",
     "output_type": "stream",
     "text": [
      "Shape of matrix b:  (3, 4)\n"
     ]
    }
   ],
   "source": [
    "print(\"Shape of matrix b: \",b.shape)"
   ]
  },
  {
   "cell_type": "code",
   "execution_count": 212,
   "id": "250d794d",
   "metadata": {},
   "outputs": [
    {
     "name": "stdout",
     "output_type": "stream",
     "text": [
      "a+b = \n",
      " [[3 3 4 0]\n",
      " [1 1 3 1]\n",
      " [5 1 2 3]]\n"
     ]
    }
   ],
   "source": [
    "#find a+b\n",
    "add=np.add(a,b)\n",
    "print(\"a+b = \\n\",add)"
   ]
  },
  {
   "cell_type": "code",
   "execution_count": 211,
   "id": "c94f74df",
   "metadata": {},
   "outputs": [
    {
     "name": "stdout",
     "output_type": "stream",
     "text": [
      "a-b = \n",
      " [[-1  1  2  0]\n",
      " [-1  1  1  1]\n",
      " [-1  1 -2  3]]\n"
     ]
    }
   ],
   "source": [
    "#find a-b\n",
    "diff=np.subtract(a,b)\n",
    "print(\"a-b = \\n\",diff)"
   ]
  },
  {
   "cell_type": "code",
   "execution_count": 210,
   "id": "48130621",
   "metadata": {},
   "outputs": [
    {
     "name": "stdout",
     "output_type": "stream",
     "text": [
      "a*b = \n",
      " [[2 2 3 0]\n",
      " [0 0 2 0]\n",
      " [6 0 0 0]]\n"
     ]
    }
   ],
   "source": [
    "#find a*b(elementwise)\n",
    "print(\"a*b = \\n\",a*b)"
   ]
  },
  {
   "cell_type": "code",
   "execution_count": 209,
   "id": "8ad99313",
   "metadata": {},
   "outputs": [
    {
     "name": "stdout",
     "output_type": "stream",
     "text": [
      "AxA' =\n",
      " [[14  8  4]\n",
      " [ 8  6  4]\n",
      " [ 4  4 14]]\n"
     ]
    }
   ],
   "source": [
    "#multiply the matrix a and its transpose (matrix multiplicaiton)\n",
    "trans_a=a.T\n",
    "print(\"AxA' =\\n\",np.matmul(a,trans_a))"
   ]
  },
  {
   "cell_type": "code",
   "execution_count": 208,
   "id": "c621efdb",
   "metadata": {},
   "outputs": [
    {
     "name": "stdout",
     "output_type": "stream",
     "text": [
      "a+10 = \n",
      " [[11 12 13 10]\n",
      " [10 11 12 11]\n",
      " [12 11 10 13]]\n"
     ]
    }
   ],
   "source": [
    "#add the value 10 to all elements of a\n",
    "print(\"a+10 = \\n\",a+10)"
   ]
  },
  {
   "cell_type": "code",
   "execution_count": 207,
   "id": "aba5c86a",
   "metadata": {},
   "outputs": [
    {
     "name": "stdout",
     "output_type": "stream",
     "text": [
      "Transpose of b: \n",
      " [[2 1 3]\n",
      " [1 0 0]\n",
      " [1 1 2]\n",
      " [0 0 0]]\n"
     ]
    }
   ],
   "source": [
    "#find transpose of b\n",
    "trans_b=b.T\n",
    "print(\"Transpose of b: \\n\",trans_b)"
   ]
  },
  {
   "cell_type": "code",
   "execution_count": 172,
   "id": "36e9b2ab",
   "metadata": {},
   "outputs": [
    {
     "name": "stdout",
     "output_type": "stream",
     "text": [
      "Average of matrix b:  0.9166666666666666\n"
     ]
    }
   ],
   "source": [
    "#calculate average, mean and standard deviation of the elements of the matrix b\n",
    "print(\"Average of matrix b: \",np.average(b))"
   ]
  },
  {
   "cell_type": "code",
   "execution_count": 173,
   "id": "4c08552b",
   "metadata": {},
   "outputs": [
    {
     "name": "stdout",
     "output_type": "stream",
     "text": [
      "Mean of matrix b:  0.9166666666666666\n"
     ]
    }
   ],
   "source": [
    "print(\"Mean of matrix b: \",np.mean(b))"
   ]
  },
  {
   "cell_type": "code",
   "execution_count": 174,
   "id": "c676ad01",
   "metadata": {},
   "outputs": [
    {
     "name": "stdout",
     "output_type": "stream",
     "text": [
      "Standard deviation of matrix b:  0.9537935951882998\n"
     ]
    }
   ],
   "source": [
    "print(\"Standard deviation of matrix b: \",np.std(b))"
   ]
  },
  {
   "cell_type": "code",
   "execution_count": 175,
   "id": "3e4a334d",
   "metadata": {},
   "outputs": [
    {
     "name": "stdout",
     "output_type": "stream",
     "text": [
      "Maximum element in each column of matrix a:  [2 2 3 3]\n"
     ]
    }
   ],
   "source": [
    "#find the maximum element in each column of the matrix a\n",
    "print(\"Maximum element in each column of matrix a: \",np.max(a,axis=0))"
   ]
  },
  {
   "cell_type": "code",
   "execution_count": 177,
   "id": "74a39b69",
   "metadata": {},
   "outputs": [
    {
     "name": "stdout",
     "output_type": "stream",
     "text": [
      "Maximum element in each row of matrix a:  [3 2 3]\n"
     ]
    }
   ],
   "source": [
    "#find the maximum element in each row of the matrix a\n",
    "print(\"Maximum element in each row of matrix a: \",np.max(a,axis=1))"
   ]
  },
  {
   "cell_type": "code",
   "execution_count": 179,
   "id": "abb24fb8",
   "metadata": {},
   "outputs": [
    {
     "name": "stdout",
     "output_type": "stream",
     "text": [
      "Minimum value of matrix b:  0\n"
     ]
    }
   ],
   "source": [
    "#minimum value of the matrix b\n",
    "print(\"Minimum value of matrix b: \",np.min(b))"
   ]
  },
  {
   "cell_type": "code",
   "execution_count": 206,
   "id": "3e558f50",
   "metadata": {},
   "outputs": [
    {
     "name": "stdout",
     "output_type": "stream",
     "text": [
      "Matrix b reshaped with dimension 2x6: \n",
      " [[2 1 1 0 1 0]\n",
      " [1 0 3 0 2 0]]\n"
     ]
    }
   ],
   "source": [
    "#reshape b with dimension 2x6\n",
    "print(\"Matrix b reshaped with dimension 2x6: \\n\",b.reshape(2,6))"
   ]
  },
  {
   "cell_type": "code",
   "execution_count": 205,
   "id": "869a3bcf",
   "metadata": {},
   "outputs": [
    {
     "name": "stdout",
     "output_type": "stream",
     "text": [
      "Transpose of matrix a: \n",
      " [[1 0 2]\n",
      " [2 1 1]\n",
      " [3 2 0]\n",
      " [0 1 3]]\n"
     ]
    }
   ],
   "source": [
    "#find the transpose of a\n",
    "trans_a=a.T\n",
    "print(\"Transpose of matrix a: \\n\",trans_a)"
   ]
  },
  {
   "cell_type": "code",
   "execution_count": null,
   "id": "c37dcba0",
   "metadata": {},
   "outputs": [],
   "source": [
    "###########################################################################################################################"
   ]
  },
  {
   "cell_type": "code",
   "execution_count": 32,
   "id": "12e1fa7d",
   "metadata": {},
   "outputs": [],
   "source": [
    "#Qn1.2"
   ]
  },
  {
   "cell_type": "code",
   "execution_count": 182,
   "id": "d7d310d9",
   "metadata": {},
   "outputs": [
    {
     "name": "stdout",
     "output_type": "stream",
     "text": [
      "Row vector row_a=  [1 2 3]\n"
     ]
    }
   ],
   "source": [
    "#Create a row vector row_a, and a column vector col_a.\n",
    "row_a=np.array([1,2,3])\n",
    "print(\"Row vector row_a= \",row_a)"
   ]
  },
  {
   "cell_type": "code",
   "execution_count": 204,
   "id": "9315438c",
   "metadata": {},
   "outputs": [
    {
     "name": "stdout",
     "output_type": "stream",
     "text": [
      "Column vector col_a= \n",
      " [[1]\n",
      " [2]\n",
      " [3]]\n"
     ]
    }
   ],
   "source": [
    "col_a=np.array([[1],[2],[3]])\n",
    "print(\"Column vector col_a= \\n\",col_a)"
   ]
  },
  {
   "cell_type": "code",
   "execution_count": 184,
   "id": "fc639ba8",
   "metadata": {},
   "outputs": [
    {
     "name": "stdout",
     "output_type": "stream",
     "text": [
      "Transpose of col_a:  [[1 2 3]]\n"
     ]
    }
   ],
   "source": [
    "#Create transpose of col_a\n",
    "trans_col_a=col_a.T\n",
    "print(\"Transpose of col_a: \",trans_col_a)"
   ]
  },
  {
   "cell_type": "code",
   "execution_count": 188,
   "id": "a6ba0030",
   "metadata": {},
   "outputs": [
    {
     "ename": "ValueError",
     "evalue": "shapes (3,1) and (3,1) not aligned: 1 (dim 1) != 3 (dim 0)",
     "output_type": "error",
     "traceback": [
      "\u001b[1;31m---------------------------------------------------------------------------\u001b[0m",
      "\u001b[1;31mValueError\u001b[0m                                Traceback (most recent call last)",
      "\u001b[1;32m~\\AppData\\Local\\Temp/ipykernel_18144/2415849934.py\u001b[0m in \u001b[0;36m<module>\u001b[1;34m\u001b[0m\n\u001b[0;32m      1\u001b[0m \u001b[1;31m#calculate the dot product of col_a with itself.\u001b[0m\u001b[1;33m\u001b[0m\u001b[1;33m\u001b[0m\u001b[0m\n\u001b[1;32m----> 2\u001b[1;33m \u001b[0mprint\u001b[0m\u001b[1;33m(\u001b[0m\u001b[1;34m\"Dot product of col_a with itself: \"\u001b[0m\u001b[1;33m,\u001b[0m\u001b[0mnp\u001b[0m\u001b[1;33m.\u001b[0m\u001b[0mdot\u001b[0m\u001b[1;33m(\u001b[0m\u001b[0mcol_a\u001b[0m\u001b[1;33m,\u001b[0m\u001b[0mcol_a\u001b[0m\u001b[1;33m)\u001b[0m\u001b[1;33m)\u001b[0m\u001b[1;33m\u001b[0m\u001b[1;33m\u001b[0m\u001b[0m\n\u001b[0m",
      "\u001b[1;32m<__array_function__ internals>\u001b[0m in \u001b[0;36mdot\u001b[1;34m(*args, **kwargs)\u001b[0m\n",
      "\u001b[1;31mValueError\u001b[0m: shapes (3,1) and (3,1) not aligned: 1 (dim 1) != 3 (dim 0)"
     ]
    }
   ],
   "source": [
    "#calculate the dot product of col_a with itself.\n",
    "print(\"Dot product of col_a with itself: \",np.dot(col_a,col_a))\n"
   ]
  },
  {
   "cell_type": "code",
   "execution_count": 189,
   "id": "6d39d7de",
   "metadata": {},
   "outputs": [
    {
     "name": "stdout",
     "output_type": "stream",
     "text": [
      "Dot product of row_a with itself:  14\n"
     ]
    }
   ],
   "source": [
    "print(\"Dot product of row_a with itself: \",np.dot(row_a,row_a))"
   ]
  },
  {
   "cell_type": "code",
   "execution_count": 203,
   "id": "6782d5ea",
   "metadata": {},
   "outputs": [
    {
     "name": "stdout",
     "output_type": "stream",
     "text": [
      "Sum of row_a and col_a: \n",
      " [[2 3 4]\n",
      " [3 4 5]\n",
      " [4 5 6]]\n"
     ]
    }
   ],
   "source": [
    "#Add the vectors row_aand col_a (broadcasting).\n",
    "print(\"Sum of row_a and col_a: \\n\",np.add(row_a,col_a))"
   ]
  },
  {
   "cell_type": "code",
   "execution_count": null,
   "id": "6761202e",
   "metadata": {},
   "outputs": [],
   "source": []
  },
  {
   "cell_type": "code",
   "execution_count": null,
   "id": "04c85684",
   "metadata": {},
   "outputs": [],
   "source": [
    "#########################################################################################################################"
   ]
  },
  {
   "cell_type": "code",
   "execution_count": 43,
   "id": "517ca7d9",
   "metadata": {},
   "outputs": [],
   "source": [
    "#Qn1.3"
   ]
  },
  {
   "cell_type": "code",
   "execution_count": 44,
   "id": "b1b83681",
   "metadata": {},
   "outputs": [],
   "source": [
    "#Create a dictionary of data\n"
   ]
  },
  {
   "cell_type": "code",
   "execution_count": 4,
   "id": "24030836",
   "metadata": {},
   "outputs": [],
   "source": [
    "from sklearn.feature_extraction import DictVectorizer"
   ]
  },
  {
   "cell_type": "code",
   "execution_count": 5,
   "id": "a7f70c8b",
   "metadata": {},
   "outputs": [],
   "source": [
    "data_dict = [{'Red': 2, 'Blue': 4},\n",
    "             {'Red': 4, 'Blue': 3},\n",
    "             {'Red': 1, 'Yellow': 2},\n",
    "             {'Red': 2, 'Yellow': 2}]"
   ]
  },
  {
   "cell_type": "code",
   "execution_count": 6,
   "id": "12aa3c12",
   "metadata": {},
   "outputs": [],
   "source": [
    "# Create DictVectorizer object\n",
    "dictvectorizer = DictVectorizer(sparse=False)"
   ]
  },
  {
   "cell_type": "code",
   "execution_count": 7,
   "id": "e9451128",
   "metadata": {},
   "outputs": [],
   "source": [
    "# Convert dictionary into feature matrix\n",
    "features = dictvectorizer.fit_transform(data_dict)\n"
   ]
  },
  {
   "cell_type": "code",
   "execution_count": 202,
   "id": "49e17762",
   "metadata": {},
   "outputs": [
    {
     "name": "stdout",
     "output_type": "stream",
     "text": [
      "Feature Matrix: \n",
      " [[4. 2. 0.]\n",
      " [3. 4. 0.]\n",
      " [0. 1. 2.]\n",
      " [0. 2. 2.]]\n"
     ]
    }
   ],
   "source": [
    "# View feature matrix\n",
    "print(\"Feature Matrix: \\n\",features)"
   ]
  },
  {
   "cell_type": "code",
   "execution_count": 192,
   "id": "78464243",
   "metadata": {},
   "outputs": [
    {
     "name": "stdout",
     "output_type": "stream",
     "text": [
      "Column names:  ['Blue', 'Red', 'Yellow']\n"
     ]
    }
   ],
   "source": [
    "# View feature matrix column names\n",
    "print(\"Column names: \",dictvectorizer.get_feature_names())"
   ]
  },
  {
   "cell_type": "code",
   "execution_count": null,
   "id": "7d9a0af0",
   "metadata": {},
   "outputs": [],
   "source": []
  },
  {
   "cell_type": "code",
   "execution_count": 45,
   "id": "900f131e",
   "metadata": {},
   "outputs": [],
   "source": [
    "##############################################################################################################################"
   ]
  },
  {
   "cell_type": "code",
   "execution_count": 46,
   "id": "ac0985ef",
   "metadata": {},
   "outputs": [],
   "source": [
    "#Qn_2.Data Handling"
   ]
  },
  {
   "cell_type": "code",
   "execution_count": 1,
   "id": "a1e46107",
   "metadata": {},
   "outputs": [],
   "source": [
    "import pandas as pd\n",
    "import matplotlib.pyplot as plt\n"
   ]
  },
  {
   "cell_type": "code",
   "execution_count": 2,
   "id": "041e70b0",
   "metadata": {},
   "outputs": [],
   "source": [
    "ecom=pd.read_csv(\"ecom.csv\")"
   ]
  },
  {
   "cell_type": "code",
   "execution_count": 6,
   "id": "2e435947",
   "metadata": {},
   "outputs": [
    {
     "name": "stdout",
     "output_type": "stream",
     "text": [
      "Shape of dataset:  (10999, 12)\n"
     ]
    }
   ],
   "source": [
    "#functions to show the shape (number of feature vectors x number of features) of the dataset.\n",
    "print(\"Shape of dataset: \",ecom.shape)"
   ]
  },
  {
   "cell_type": "code",
   "execution_count": 199,
   "id": "cf0d5c08",
   "metadata": {},
   "outputs": [
    {
     "data": {
      "text/html": [
       "<div>\n",
       "<style scoped>\n",
       "    .dataframe tbody tr th:only-of-type {\n",
       "        vertical-align: middle;\n",
       "    }\n",
       "\n",
       "    .dataframe tbody tr th {\n",
       "        vertical-align: top;\n",
       "    }\n",
       "\n",
       "    .dataframe thead th {\n",
       "        text-align: right;\n",
       "    }\n",
       "</style>\n",
       "<table border=\"1\" class=\"dataframe\">\n",
       "  <thead>\n",
       "    <tr style=\"text-align: right;\">\n",
       "      <th></th>\n",
       "      <th>ID</th>\n",
       "      <th>Warehouse_block</th>\n",
       "      <th>Mode_of_Shipment</th>\n",
       "      <th>Customer_care_calls</th>\n",
       "      <th>Customer_rating</th>\n",
       "      <th>Cost_of_the_Product</th>\n",
       "      <th>Prior_purchases</th>\n",
       "      <th>Product_importance</th>\n",
       "      <th>Gender</th>\n",
       "      <th>Discount_offered</th>\n",
       "      <th>Weight_in_gms</th>\n",
       "      <th>Reached.on.Time_Y.N</th>\n",
       "    </tr>\n",
       "  </thead>\n",
       "  <tbody>\n",
       "    <tr>\n",
       "      <th>0</th>\n",
       "      <td>1</td>\n",
       "      <td>D</td>\n",
       "      <td>Flight</td>\n",
       "      <td>4</td>\n",
       "      <td>2</td>\n",
       "      <td>177</td>\n",
       "      <td>3</td>\n",
       "      <td>low</td>\n",
       "      <td>F</td>\n",
       "      <td>44</td>\n",
       "      <td>1233</td>\n",
       "      <td>1</td>\n",
       "    </tr>\n",
       "    <tr>\n",
       "      <th>1</th>\n",
       "      <td>2</td>\n",
       "      <td>F</td>\n",
       "      <td>Flight</td>\n",
       "      <td>4</td>\n",
       "      <td>5</td>\n",
       "      <td>216</td>\n",
       "      <td>2</td>\n",
       "      <td>low</td>\n",
       "      <td>M</td>\n",
       "      <td>59</td>\n",
       "      <td>3088</td>\n",
       "      <td>1</td>\n",
       "    </tr>\n",
       "    <tr>\n",
       "      <th>2</th>\n",
       "      <td>3</td>\n",
       "      <td>A</td>\n",
       "      <td>Flight</td>\n",
       "      <td>2</td>\n",
       "      <td>2</td>\n",
       "      <td>183</td>\n",
       "      <td>4</td>\n",
       "      <td>low</td>\n",
       "      <td>M</td>\n",
       "      <td>48</td>\n",
       "      <td>3374</td>\n",
       "      <td>1</td>\n",
       "    </tr>\n",
       "    <tr>\n",
       "      <th>3</th>\n",
       "      <td>4</td>\n",
       "      <td>B</td>\n",
       "      <td>Flight</td>\n",
       "      <td>3</td>\n",
       "      <td>3</td>\n",
       "      <td>176</td>\n",
       "      <td>4</td>\n",
       "      <td>medium</td>\n",
       "      <td>M</td>\n",
       "      <td>10</td>\n",
       "      <td>1177</td>\n",
       "      <td>1</td>\n",
       "    </tr>\n",
       "    <tr>\n",
       "      <th>4</th>\n",
       "      <td>5</td>\n",
       "      <td>C</td>\n",
       "      <td>Flight</td>\n",
       "      <td>2</td>\n",
       "      <td>2</td>\n",
       "      <td>184</td>\n",
       "      <td>3</td>\n",
       "      <td>medium</td>\n",
       "      <td>F</td>\n",
       "      <td>46</td>\n",
       "      <td>2484</td>\n",
       "      <td>1</td>\n",
       "    </tr>\n",
       "  </tbody>\n",
       "</table>\n",
       "</div>"
      ],
      "text/plain": [
       "   ID Warehouse_block Mode_of_Shipment  Customer_care_calls  Customer_rating  \\\n",
       "0   1               D           Flight                    4                2   \n",
       "1   2               F           Flight                    4                5   \n",
       "2   3               A           Flight                    2                2   \n",
       "3   4               B           Flight                    3                3   \n",
       "4   5               C           Flight                    2                2   \n",
       "\n",
       "   Cost_of_the_Product  Prior_purchases Product_importance Gender  \\\n",
       "0                  177                3                low      F   \n",
       "1                  216                2                low      M   \n",
       "2                  183                4                low      M   \n",
       "3                  176                4             medium      M   \n",
       "4                  184                3             medium      F   \n",
       "\n",
       "   Discount_offered  Weight_in_gms  Reached.on.Time_Y.N  \n",
       "0                44           1233                    1  \n",
       "1                59           3088                    1  \n",
       "2                48           3374                    1  \n",
       "3                10           1177                    1  \n",
       "4                46           2484                    1  "
      ]
     },
     "execution_count": 199,
     "metadata": {},
     "output_type": "execute_result"
    }
   ],
   "source": [
    "#Use appropriate slicing functions to show the head and tail ends of the dataset\n",
    "ecom.head()"
   ]
  },
  {
   "cell_type": "code",
   "execution_count": 51,
   "id": "1800269e",
   "metadata": {},
   "outputs": [
    {
     "data": {
      "text/html": [
       "<div>\n",
       "<style scoped>\n",
       "    .dataframe tbody tr th:only-of-type {\n",
       "        vertical-align: middle;\n",
       "    }\n",
       "\n",
       "    .dataframe tbody tr th {\n",
       "        vertical-align: top;\n",
       "    }\n",
       "\n",
       "    .dataframe thead th {\n",
       "        text-align: right;\n",
       "    }\n",
       "</style>\n",
       "<table border=\"1\" class=\"dataframe\">\n",
       "  <thead>\n",
       "    <tr style=\"text-align: right;\">\n",
       "      <th></th>\n",
       "      <th>ID</th>\n",
       "      <th>Warehouse_block</th>\n",
       "      <th>Mode_of_Shipment</th>\n",
       "      <th>Customer_care_calls</th>\n",
       "      <th>Customer_rating</th>\n",
       "      <th>Cost_of_the_Product</th>\n",
       "      <th>Prior_purchases</th>\n",
       "      <th>Product_importance</th>\n",
       "      <th>Gender</th>\n",
       "      <th>Discount_offered</th>\n",
       "      <th>Weight_in_gms</th>\n",
       "      <th>Reached.on.Time_Y.N</th>\n",
       "    </tr>\n",
       "  </thead>\n",
       "  <tbody>\n",
       "    <tr>\n",
       "      <th>10994</th>\n",
       "      <td>10995</td>\n",
       "      <td>A</td>\n",
       "      <td>Ship</td>\n",
       "      <td>4</td>\n",
       "      <td>1</td>\n",
       "      <td>252</td>\n",
       "      <td>5</td>\n",
       "      <td>medium</td>\n",
       "      <td>F</td>\n",
       "      <td>1</td>\n",
       "      <td>1538</td>\n",
       "      <td>1</td>\n",
       "    </tr>\n",
       "    <tr>\n",
       "      <th>10995</th>\n",
       "      <td>10996</td>\n",
       "      <td>B</td>\n",
       "      <td>Ship</td>\n",
       "      <td>4</td>\n",
       "      <td>1</td>\n",
       "      <td>232</td>\n",
       "      <td>5</td>\n",
       "      <td>medium</td>\n",
       "      <td>F</td>\n",
       "      <td>6</td>\n",
       "      <td>1247</td>\n",
       "      <td>0</td>\n",
       "    </tr>\n",
       "    <tr>\n",
       "      <th>10996</th>\n",
       "      <td>10997</td>\n",
       "      <td>C</td>\n",
       "      <td>Ship</td>\n",
       "      <td>5</td>\n",
       "      <td>4</td>\n",
       "      <td>242</td>\n",
       "      <td>5</td>\n",
       "      <td>low</td>\n",
       "      <td>F</td>\n",
       "      <td>4</td>\n",
       "      <td>1155</td>\n",
       "      <td>0</td>\n",
       "    </tr>\n",
       "    <tr>\n",
       "      <th>10997</th>\n",
       "      <td>10998</td>\n",
       "      <td>F</td>\n",
       "      <td>Ship</td>\n",
       "      <td>5</td>\n",
       "      <td>2</td>\n",
       "      <td>223</td>\n",
       "      <td>6</td>\n",
       "      <td>medium</td>\n",
       "      <td>M</td>\n",
       "      <td>2</td>\n",
       "      <td>1210</td>\n",
       "      <td>0</td>\n",
       "    </tr>\n",
       "    <tr>\n",
       "      <th>10998</th>\n",
       "      <td>10999</td>\n",
       "      <td>D</td>\n",
       "      <td>Ship</td>\n",
       "      <td>2</td>\n",
       "      <td>5</td>\n",
       "      <td>155</td>\n",
       "      <td>5</td>\n",
       "      <td>low</td>\n",
       "      <td>F</td>\n",
       "      <td>6</td>\n",
       "      <td>1639</td>\n",
       "      <td>0</td>\n",
       "    </tr>\n",
       "  </tbody>\n",
       "</table>\n",
       "</div>"
      ],
      "text/plain": [
       "          ID Warehouse_block Mode_of_Shipment  Customer_care_calls  \\\n",
       "10994  10995               A             Ship                    4   \n",
       "10995  10996               B             Ship                    4   \n",
       "10996  10997               C             Ship                    5   \n",
       "10997  10998               F             Ship                    5   \n",
       "10998  10999               D             Ship                    2   \n",
       "\n",
       "       Customer_rating  Cost_of_the_Product  Prior_purchases  \\\n",
       "10994                1                  252                5   \n",
       "10995                1                  232                5   \n",
       "10996                4                  242                5   \n",
       "10997                2                  223                6   \n",
       "10998                5                  155                5   \n",
       "\n",
       "      Product_importance Gender  Discount_offered  Weight_in_gms  \\\n",
       "10994             medium      F                 1           1538   \n",
       "10995             medium      F                 6           1247   \n",
       "10996                low      F                 4           1155   \n",
       "10997             medium      M                 2           1210   \n",
       "10998                low      F                 6           1639   \n",
       "\n",
       "       Reached.on.Time_Y.N  \n",
       "10994                    1  \n",
       "10995                    0  \n",
       "10996                    0  \n",
       "10997                    0  \n",
       "10998                    0  "
      ]
     },
     "execution_count": 51,
     "metadata": {},
     "output_type": "execute_result"
    }
   ],
   "source": [
    "ecom.tail()"
   ]
  },
  {
   "cell_type": "code",
   "execution_count": 201,
   "id": "20bcefb6",
   "metadata": {},
   "outputs": [
    {
     "name": "stdout",
     "output_type": "stream",
     "text": [
      "feature vector corresponding to the row number 180 \n",
      " ID                        181\n",
      "Warehouse_block             D\n",
      "Mode_of_Shipment         Ship\n",
      "Customer_care_calls         4\n",
      "Customer_rating             1\n",
      "Cost_of_the_Product       161\n",
      "Prior_purchases             7\n",
      "Product_importance     medium\n",
      "Gender                      F\n",
      "Discount_offered           18\n",
      "Weight_in_gms            1294\n",
      "Reached.on.Time_Y.N         1\n",
      "Name: 180, dtype: object\n"
     ]
    }
   ],
   "source": [
    "#display the feature vector corresponding to the row number 180\n",
    "print(\"feature vector corresponding to the row number 180 \\n\",ecom.iloc[180])"
   ]
  },
  {
   "cell_type": "code",
   "execution_count": 10,
   "id": "5371010d",
   "metadata": {},
   "outputs": [
    {
     "data": {
      "text/html": [
       "<div>\n",
       "<style scoped>\n",
       "    .dataframe tbody tr th:only-of-type {\n",
       "        vertical-align: middle;\n",
       "    }\n",
       "\n",
       "    .dataframe tbody tr th {\n",
       "        vertical-align: top;\n",
       "    }\n",
       "\n",
       "    .dataframe thead th {\n",
       "        text-align: right;\n",
       "    }\n",
       "</style>\n",
       "<table border=\"1\" class=\"dataframe\">\n",
       "  <thead>\n",
       "    <tr style=\"text-align: right;\">\n",
       "      <th></th>\n",
       "      <th>ID</th>\n",
       "      <th>Warehouse_block</th>\n",
       "      <th>Mode_of_Shipment</th>\n",
       "      <th>Customer_care_calls</th>\n",
       "      <th>Customer_rating</th>\n",
       "      <th>Cost_of_the_Product</th>\n",
       "      <th>Prior_purchases</th>\n",
       "      <th>Product_importance</th>\n",
       "      <th>Gender</th>\n",
       "      <th>Discount_offered</th>\n",
       "      <th>Weight_in_gms</th>\n",
       "      <th>Reached.on.Time_Y.N</th>\n",
       "    </tr>\n",
       "  </thead>\n",
       "  <tbody>\n",
       "  </tbody>\n",
       "</table>\n",
       "</div>"
      ],
      "text/plain": [
       "Empty DataFrame\n",
       "Columns: [ID, Warehouse_block, Mode_of_Shipment, Customer_care_calls, Customer_rating, Cost_of_the_Product, Prior_purchases, Product_importance, Gender, Discount_offered, Weight_in_gms, Reached.on.Time_Y.N]\n",
       "Index: []"
      ]
     },
     "execution_count": 10,
     "metadata": {},
     "output_type": "execute_result"
    }
   ],
   "source": [
    "#to display the set of tuples where mode of shipment is flight and weight is more than 7000 gms.\n",
    "ecom.loc[(ecom[\"Mode_of_Shipment\"]==\"Flight\") & (ecom[\"Weight_in_gms\"]>7000)]"
   ]
  },
  {
   "cell_type": "code",
   "execution_count": 213,
   "id": "ba283ee0",
   "metadata": {},
   "outputs": [
    {
     "name": "stdout",
     "output_type": "stream",
     "text": [
      "Mean value of Customer rating:  2.9905445949631786\n"
     ]
    }
   ],
   "source": [
    "#Find the mean, median, mode and variance of the customer rating.\n",
    "print(\"Mean value of Customer rating: \",ecom.Customer_rating.mean())"
   ]
  },
  {
   "cell_type": "code",
   "execution_count": 214,
   "id": "4af0c4e0",
   "metadata": {},
   "outputs": [
    {
     "name": "stdout",
     "output_type": "stream",
     "text": [
      "Median value of Customer rating:  3.0\n"
     ]
    }
   ],
   "source": [
    "print(\"Median value of Customer rating: \",ecom.Customer_rating.median())"
   ]
  },
  {
   "cell_type": "code",
   "execution_count": 216,
   "id": "bc589857",
   "metadata": {},
   "outputs": [
    {
     "name": "stdout",
     "output_type": "stream",
     "text": [
      "Mode of Customer rating: \n",
      " 0    3\n",
      "dtype: int64\n"
     ]
    }
   ],
   "source": [
    "print(\"Mode of Customer rating: \\n\",ecom.Customer_rating.mode())"
   ]
  },
  {
   "cell_type": "code",
   "execution_count": 217,
   "id": "083ad943",
   "metadata": {},
   "outputs": [
    {
     "name": "stdout",
     "output_type": "stream",
     "text": [
      "Variance of Customer rating:  1.9982739259753057\n"
     ]
    }
   ],
   "source": [
    "print(\"Variance of Customer rating: \",ecom.Customer_rating.var())"
   ]
  },
  {
   "cell_type": "code",
   "execution_count": 219,
   "id": "5dcedcfc",
   "metadata": {},
   "outputs": [
    {
     "data": {
      "text/html": [
       "<div>\n",
       "<style scoped>\n",
       "    .dataframe tbody tr th:only-of-type {\n",
       "        vertical-align: middle;\n",
       "    }\n",
       "\n",
       "    .dataframe tbody tr th {\n",
       "        vertical-align: top;\n",
       "    }\n",
       "\n",
       "    .dataframe thead th {\n",
       "        text-align: right;\n",
       "    }\n",
       "</style>\n",
       "<table border=\"1\" class=\"dataframe\">\n",
       "  <thead>\n",
       "    <tr style=\"text-align: right;\">\n",
       "      <th></th>\n",
       "      <th>ID</th>\n",
       "      <th>Customer_care_calls</th>\n",
       "      <th>Customer_rating</th>\n",
       "      <th>Cost_of_the_Product</th>\n",
       "      <th>Prior_purchases</th>\n",
       "      <th>Discount_offered</th>\n",
       "      <th>Weight_in_gms</th>\n",
       "      <th>Reached.on.Time_Y.N</th>\n",
       "    </tr>\n",
       "  </thead>\n",
       "  <tbody>\n",
       "    <tr>\n",
       "      <th>count</th>\n",
       "      <td>10999.00000</td>\n",
       "      <td>10999.000000</td>\n",
       "      <td>10999.000000</td>\n",
       "      <td>10999.000000</td>\n",
       "      <td>10999.000000</td>\n",
       "      <td>10999.000000</td>\n",
       "      <td>10999.000000</td>\n",
       "      <td>10999.000000</td>\n",
       "    </tr>\n",
       "    <tr>\n",
       "      <th>mean</th>\n",
       "      <td>5500.00000</td>\n",
       "      <td>4.054459</td>\n",
       "      <td>2.990545</td>\n",
       "      <td>210.196836</td>\n",
       "      <td>3.567597</td>\n",
       "      <td>13.373216</td>\n",
       "      <td>3634.016729</td>\n",
       "      <td>0.596691</td>\n",
       "    </tr>\n",
       "    <tr>\n",
       "      <th>std</th>\n",
       "      <td>3175.28214</td>\n",
       "      <td>1.141490</td>\n",
       "      <td>1.413603</td>\n",
       "      <td>48.063272</td>\n",
       "      <td>1.522860</td>\n",
       "      <td>16.205527</td>\n",
       "      <td>1635.377251</td>\n",
       "      <td>0.490584</td>\n",
       "    </tr>\n",
       "    <tr>\n",
       "      <th>min</th>\n",
       "      <td>1.00000</td>\n",
       "      <td>2.000000</td>\n",
       "      <td>1.000000</td>\n",
       "      <td>96.000000</td>\n",
       "      <td>2.000000</td>\n",
       "      <td>1.000000</td>\n",
       "      <td>1001.000000</td>\n",
       "      <td>0.000000</td>\n",
       "    </tr>\n",
       "    <tr>\n",
       "      <th>25%</th>\n",
       "      <td>2750.50000</td>\n",
       "      <td>3.000000</td>\n",
       "      <td>2.000000</td>\n",
       "      <td>169.000000</td>\n",
       "      <td>3.000000</td>\n",
       "      <td>4.000000</td>\n",
       "      <td>1839.500000</td>\n",
       "      <td>0.000000</td>\n",
       "    </tr>\n",
       "    <tr>\n",
       "      <th>50%</th>\n",
       "      <td>5500.00000</td>\n",
       "      <td>4.000000</td>\n",
       "      <td>3.000000</td>\n",
       "      <td>214.000000</td>\n",
       "      <td>3.000000</td>\n",
       "      <td>7.000000</td>\n",
       "      <td>4149.000000</td>\n",
       "      <td>1.000000</td>\n",
       "    </tr>\n",
       "    <tr>\n",
       "      <th>75%</th>\n",
       "      <td>8249.50000</td>\n",
       "      <td>5.000000</td>\n",
       "      <td>4.000000</td>\n",
       "      <td>251.000000</td>\n",
       "      <td>4.000000</td>\n",
       "      <td>10.000000</td>\n",
       "      <td>5050.000000</td>\n",
       "      <td>1.000000</td>\n",
       "    </tr>\n",
       "    <tr>\n",
       "      <th>max</th>\n",
       "      <td>10999.00000</td>\n",
       "      <td>7.000000</td>\n",
       "      <td>5.000000</td>\n",
       "      <td>310.000000</td>\n",
       "      <td>10.000000</td>\n",
       "      <td>65.000000</td>\n",
       "      <td>7846.000000</td>\n",
       "      <td>1.000000</td>\n",
       "    </tr>\n",
       "  </tbody>\n",
       "</table>\n",
       "</div>"
      ],
      "text/plain": [
       "                ID  Customer_care_calls  Customer_rating  Cost_of_the_Product  \\\n",
       "count  10999.00000         10999.000000     10999.000000         10999.000000   \n",
       "mean    5500.00000             4.054459         2.990545           210.196836   \n",
       "std     3175.28214             1.141490         1.413603            48.063272   \n",
       "min        1.00000             2.000000         1.000000            96.000000   \n",
       "25%     2750.50000             3.000000         2.000000           169.000000   \n",
       "50%     5500.00000             4.000000         3.000000           214.000000   \n",
       "75%     8249.50000             5.000000         4.000000           251.000000   \n",
       "max    10999.00000             7.000000         5.000000           310.000000   \n",
       "\n",
       "       Prior_purchases  Discount_offered  Weight_in_gms  Reached.on.Time_Y.N  \n",
       "count     10999.000000      10999.000000   10999.000000         10999.000000  \n",
       "mean          3.567597         13.373216    3634.016729             0.596691  \n",
       "std           1.522860         16.205527    1635.377251             0.490584  \n",
       "min           2.000000          1.000000    1001.000000             0.000000  \n",
       "25%           3.000000          4.000000    1839.500000             0.000000  \n",
       "50%           3.000000          7.000000    4149.000000             1.000000  \n",
       "75%           4.000000         10.000000    5050.000000             1.000000  \n",
       "max          10.000000         65.000000    7846.000000             1.000000  "
      ]
     },
     "execution_count": 219,
     "metadata": {},
     "output_type": "execute_result"
    }
   ],
   "source": [
    "#Generate descriptive statistics of the numeric features in the dataset.\n",
    "ecom.describe()"
   ]
  },
  {
   "cell_type": "code",
   "execution_count": null,
   "id": "348dee11",
   "metadata": {},
   "outputs": [],
   "source": []
  },
  {
   "cell_type": "code",
   "execution_count": 60,
   "id": "079fab0f",
   "metadata": {},
   "outputs": [],
   "source": [
    "###########################################################################################################################"
   ]
  },
  {
   "cell_type": "code",
   "execution_count": 115,
   "id": "e6b71dc9",
   "metadata": {},
   "outputs": [],
   "source": [
    "#Qn_3. Data Visualization\n",
    "import numpy as np"
   ]
  },
  {
   "cell_type": "code",
   "execution_count": 116,
   "id": "e204ba7b",
   "metadata": {},
   "outputs": [
    {
     "data": {
      "text/html": [
       "<div>\n",
       "<style scoped>\n",
       "    .dataframe tbody tr th:only-of-type {\n",
       "        vertical-align: middle;\n",
       "    }\n",
       "\n",
       "    .dataframe tbody tr th {\n",
       "        vertical-align: top;\n",
       "    }\n",
       "\n",
       "    .dataframe thead th {\n",
       "        text-align: right;\n",
       "    }\n",
       "</style>\n",
       "<table border=\"1\" class=\"dataframe\">\n",
       "  <thead>\n",
       "    <tr style=\"text-align: right;\">\n",
       "      <th></th>\n",
       "      <th>age</th>\n",
       "      <th>height</th>\n",
       "      <th>weight</th>\n",
       "    </tr>\n",
       "  </thead>\n",
       "  <tbody>\n",
       "    <tr>\n",
       "      <th>0</th>\n",
       "      <td>12</td>\n",
       "      <td>140</td>\n",
       "      <td>40</td>\n",
       "    </tr>\n",
       "    <tr>\n",
       "      <th>1</th>\n",
       "      <td>14</td>\n",
       "      <td>150</td>\n",
       "      <td>50</td>\n",
       "    </tr>\n",
       "    <tr>\n",
       "      <th>2</th>\n",
       "      <td>3</td>\n",
       "      <td>110</td>\n",
       "      <td>10</td>\n",
       "    </tr>\n",
       "    <tr>\n",
       "      <th>3</th>\n",
       "      <td>8</td>\n",
       "      <td>130</td>\n",
       "      <td>30</td>\n",
       "    </tr>\n",
       "    <tr>\n",
       "      <th>4</th>\n",
       "      <td>7</td>\n",
       "      <td>135</td>\n",
       "      <td>35</td>\n",
       "    </tr>\n",
       "    <tr>\n",
       "      <th>5</th>\n",
       "      <td>5</td>\n",
       "      <td>120</td>\n",
       "      <td>20</td>\n",
       "    </tr>\n",
       "    <tr>\n",
       "      <th>6</th>\n",
       "      <td>12</td>\n",
       "      <td>150</td>\n",
       "      <td>50</td>\n",
       "    </tr>\n",
       "    <tr>\n",
       "      <th>7</th>\n",
       "      <td>18</td>\n",
       "      <td>170</td>\n",
       "      <td>70</td>\n",
       "    </tr>\n",
       "    <tr>\n",
       "      <th>8</th>\n",
       "      <td>21</td>\n",
       "      <td>178</td>\n",
       "      <td>78</td>\n",
       "    </tr>\n",
       "    <tr>\n",
       "      <th>9</th>\n",
       "      <td>19</td>\n",
       "      <td>180</td>\n",
       "      <td>80</td>\n",
       "    </tr>\n",
       "  </tbody>\n",
       "</table>\n",
       "</div>"
      ],
      "text/plain": [
       "   age  height  weight\n",
       "0   12     140      40\n",
       "1   14     150      50\n",
       "2    3     110      10\n",
       "3    8     130      30\n",
       "4    7     135      35\n",
       "5    5     120      20\n",
       "6   12     150      50\n",
       "7   18     170      70\n",
       "8   21     178      78\n",
       "9   19     180      80"
      ]
     },
     "execution_count": 116,
     "metadata": {},
     "output_type": "execute_result"
    }
   ],
   "source": [
    "data={'age':[12,14,3,8,7,5,12,18,21,19],'height':[140,150,110,130,135,120,150,170,178,180],'weight':[40,50,10,30,35,20,50,70,78,80]}\n",
    "df=pd.DataFrame(data)\n",
    "df"
   ]
  },
  {
   "cell_type": "code",
   "execution_count": 165,
   "id": "840a26e0",
   "metadata": {},
   "outputs": [
    {
     "data": {
      "text/plain": [
       "Text(0.5, 1.0, 'scatter plot with age and height')"
      ]
     },
     "execution_count": 165,
     "metadata": {},
     "output_type": "execute_result"
    },
    {
     "data": {
      "image/png": "[encoded data removed]",
      "text/plain": [
       "<Figure size 432x288 with 1 Axes>"
      ]
     },
     "metadata": {},
     "output_type": "display_data"
    }
   ],
   "source": [
    "#Draw a scatter plot with age and height on the x and y axis respectively\n",
    "plt.scatter(df.age,df.height)\n",
    "plt.xlabel('Age')\n",
    "plt.ylabel('Height')\n",
    "plt.title(\"scatter plot with age and height\")"
   ]
  },
  {
   "cell_type": "code",
   "execution_count": 164,
   "id": "6e476f17",
   "metadata": {},
   "outputs": [
    {
     "name": "stdout",
     "output_type": "stream",
     "text": [
      "bubble plot AxesSubplot(0.125,0.125;0.775x0.755)\n"
     ]
    },
    {
     "data": {
      "text/plain": [
       "Text(0.5, 1.0, 'bubble plot with age and height')"
      ]
     },
     "execution_count": 164,
     "metadata": {},
     "output_type": "execute_result"
    },
    {
     "data": {
      "image/png": "[encoded data removed]",
      "text/plain": [
       "<Figure size 432x288 with 1 Axes>"
      ]
     },
     "metadata": {},
     "output_type": "display_data"
    }
   ],
   "source": [
    "#Draw a bubble plot with age and height on the x and y axis respectively. \n",
    "z=np.random.rand(10)\n",
    "print(\"bubble plot\",df.plot.scatter('age','height',color='red',alpha=0.5,s=z*1000))\n",
    "plt.title(\"bubble plot with age and height\")"
   ]
  },
  {
   "cell_type": "code",
   "execution_count": 163,
   "id": "16ff73d3",
   "metadata": {},
   "outputs": [
    {
     "name": "stdout",
     "output_type": "stream",
     "text": [
      "Density plot for the attribute weight AxesSubplot(0.125,0.125;0.775x0.755)\n"
     ]
    },
    {
     "data": {
      "text/plain": [
       "Text(0.5, 1.0, 'Density plot for the attribute weight')"
      ]
     },
     "execution_count": 163,
     "metadata": {},
     "output_type": "execute_result"
    },
    {
     "data": {
      "image/png": "[encoded data removed]",
      "text/plain": [
       "<Figure size 432x288 with 1 Axes>"
      ]
     },
     "metadata": {},
     "output_type": "display_data"
    }
   ],
   "source": [
    "#Draw a density plot for the attribute weight \n",
    "\n",
    "print(\"Density plot for the attribute weight\",df.weight.plot.density())\n",
    "plt.title(\"Density plot for the attribute weight\")"
   ]
  },
  {
   "cell_type": "code",
   "execution_count": 155,
   "id": "52c41e3f",
   "metadata": {},
   "outputs": [
    {
     "data": {
      "text/plain": [
       "Text(0.5, 1.0, 'Histogram for attribute age')"
      ]
     },
     "execution_count": 155,
     "metadata": {},
     "output_type": "execute_result"
    },
    {
     "data": {
      "image/png": "[encoded data removed]",
      "text/plain": [
       "<Figure size 432x288 with 1 Axes>"
      ]
     },
     "metadata": {},
     "output_type": "display_data"
    }
   ],
   "source": [
    "#Draw a histogram for the attribute age\n",
    "\n",
    "plt.hist(df.age)\n",
    "plt.title(\"Histogram for attribute age\")"
   ]
  },
  {
   "cell_type": "code",
   "execution_count": 154,
   "id": "89a3f9b5",
   "metadata": {},
   "outputs": [
    {
     "data": {
      "text/plain": [
       "Text(0.5, 1.0, 'Boxplot for attribute height')"
      ]
     },
     "execution_count": 154,
     "metadata": {},
     "output_type": "execute_result"
    },
    {
     "data": {
      "image/png": "[encoded data removed]",
      "text/plain": [
       "<Figure size 432x288 with 1 Axes>"
      ]
     },
     "metadata": {},
     "output_type": "display_data"
    }
   ],
   "source": [
    "#Draw a boxplot for the attribute height.\n",
    "plt.boxplot(df.height)\n",
    "plt.title(\"Boxplot for attribute height\")"
   ]
  },
  {
   "cell_type": "code",
   "execution_count": null,
   "id": "f85eccc8",
   "metadata": {},
   "outputs": [],
   "source": []
  },
  {
   "cell_type": "code",
   "execution_count": null,
   "id": "03b18166",
   "metadata": {},
   "outputs": [],
   "source": []
  }
 ],
 "metadata": {
  "kernelspec": {
   "display_name": "Python 3 (ipykernel)",
   "language": "python",
   "name": "python3"
  },
  "language_info": {
   "codemirror_mode": {
    "name": "ipython",
    "version": 3
   },
   "file_extension": ".py",
   "mimetype": "text/x-python",
   "name": "python",
   "nbconvert_exporter": "python",
   "pygments_lexer": "ipython3",
   "version": "3.9.7"
  }
 },
 "nbformat": 4,
 "nbformat_minor": 5
}
