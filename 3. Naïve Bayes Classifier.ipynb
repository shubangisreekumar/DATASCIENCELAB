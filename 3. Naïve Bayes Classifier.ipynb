{
 "cells": [
  {
   "cell_type": "markdown",
   "id": "898fe0a1",
   "metadata": {},
   "source": [
    "Lab Cycle 3"
   ]
  },
  {
   "cell_type": "markdown",
   "id": "59911552",
   "metadata": {},
   "source": [
    "Naive Bayes Classifier"
   ]
  },
  {
   "cell_type": "code",
   "execution_count": 1,
   "id": "db6580dc",
   "metadata": {},
   "outputs": [],
   "source": [
    "#import packages"
   ]
  },
  {
   "cell_type": "code",
   "execution_count": 2,
   "id": "f0071d7c",
   "metadata": {},
   "outputs": [],
   "source": [
    "import numpy as np\n",
    "import pandas as pd\n",
    "from sklearn.model_selection import train_test_split\n"
   ]
  },
  {
   "cell_type": "code",
   "execution_count": 3,
   "id": "c8e1d270",
   "metadata": {},
   "outputs": [],
   "source": [
    "#read data\n",
    "df = pd.read_csv('data3.csv')"
   ]
  },
  {
   "cell_type": "code",
   "execution_count": 4,
   "id": "f8b2f0d7",
   "metadata": {},
   "outputs": [
    {
     "data": {
      "text/html": [
       "<div>\n",
       "<style scoped>\n",
       "    .dataframe tbody tr th:only-of-type {\n",
       "        vertical-align: middle;\n",
       "    }\n",
       "\n",
       "    .dataframe tbody tr th {\n",
       "        vertical-align: top;\n",
       "    }\n",
       "\n",
       "    .dataframe thead th {\n",
       "        text-align: right;\n",
       "    }\n",
       "</style>\n",
       "<table border=\"1\" class=\"dataframe\">\n",
       "  <thead>\n",
       "    <tr style=\"text-align: right;\">\n",
       "      <th></th>\n",
       "      <th>D</th>\n",
       "      <th>X1</th>\n",
       "      <th>X2</th>\n",
       "      <th>X3</th>\n",
       "      <th>X4</th>\n",
       "      <th>X5</th>\n",
       "      <th>X6</th>\n",
       "    </tr>\n",
       "  </thead>\n",
       "  <tbody>\n",
       "    <tr>\n",
       "      <th>0</th>\n",
       "      <td>0</td>\n",
       "      <td>3</td>\n",
       "      <td>3</td>\n",
       "      <td>3</td>\n",
       "      <td>4</td>\n",
       "      <td>2</td>\n",
       "      <td>4</td>\n",
       "    </tr>\n",
       "    <tr>\n",
       "      <th>1</th>\n",
       "      <td>0</td>\n",
       "      <td>3</td>\n",
       "      <td>2</td>\n",
       "      <td>3</td>\n",
       "      <td>5</td>\n",
       "      <td>4</td>\n",
       "      <td>3</td>\n",
       "    </tr>\n",
       "    <tr>\n",
       "      <th>2</th>\n",
       "      <td>1</td>\n",
       "      <td>5</td>\n",
       "      <td>3</td>\n",
       "      <td>3</td>\n",
       "      <td>3</td>\n",
       "      <td>3</td>\n",
       "      <td>5</td>\n",
       "    </tr>\n",
       "    <tr>\n",
       "      <th>3</th>\n",
       "      <td>0</td>\n",
       "      <td>5</td>\n",
       "      <td>4</td>\n",
       "      <td>3</td>\n",
       "      <td>3</td>\n",
       "      <td>3</td>\n",
       "      <td>5</td>\n",
       "    </tr>\n",
       "    <tr>\n",
       "      <th>4</th>\n",
       "      <td>0</td>\n",
       "      <td>5</td>\n",
       "      <td>4</td>\n",
       "      <td>3</td>\n",
       "      <td>3</td>\n",
       "      <td>3</td>\n",
       "      <td>5</td>\n",
       "    </tr>\n",
       "    <tr>\n",
       "      <th>...</th>\n",
       "      <td>...</td>\n",
       "      <td>...</td>\n",
       "      <td>...</td>\n",
       "      <td>...</td>\n",
       "      <td>...</td>\n",
       "      <td>...</td>\n",
       "      <td>...</td>\n",
       "    </tr>\n",
       "    <tr>\n",
       "      <th>124</th>\n",
       "      <td>1</td>\n",
       "      <td>5</td>\n",
       "      <td>2</td>\n",
       "      <td>4</td>\n",
       "      <td>4</td>\n",
       "      <td>2</td>\n",
       "      <td>3</td>\n",
       "    </tr>\n",
       "    <tr>\n",
       "      <th>125</th>\n",
       "      <td>0</td>\n",
       "      <td>5</td>\n",
       "      <td>3</td>\n",
       "      <td>3</td>\n",
       "      <td>4</td>\n",
       "      <td>4</td>\n",
       "      <td>5</td>\n",
       "    </tr>\n",
       "    <tr>\n",
       "      <th>126</th>\n",
       "      <td>0</td>\n",
       "      <td>5</td>\n",
       "      <td>3</td>\n",
       "      <td>3</td>\n",
       "      <td>4</td>\n",
       "      <td>4</td>\n",
       "      <td>4</td>\n",
       "    </tr>\n",
       "    <tr>\n",
       "      <th>127</th>\n",
       "      <td>0</td>\n",
       "      <td>3</td>\n",
       "      <td>2</td>\n",
       "      <td>3</td>\n",
       "      <td>3</td>\n",
       "      <td>5</td>\n",
       "      <td>4</td>\n",
       "    </tr>\n",
       "    <tr>\n",
       "      <th>128</th>\n",
       "      <td>0</td>\n",
       "      <td>4</td>\n",
       "      <td>1</td>\n",
       "      <td>3</td>\n",
       "      <td>3</td>\n",
       "      <td>3</td>\n",
       "      <td>4</td>\n",
       "    </tr>\n",
       "  </tbody>\n",
       "</table>\n",
       "<p>129 rows × 7 columns</p>\n",
       "</div>"
      ],
      "text/plain": [
       "     D  X1  X2  X3  X4  X5  X6\n",
       "0    0   3   3   3   4   2   4\n",
       "1    0   3   2   3   5   4   3\n",
       "2    1   5   3   3   3   3   5\n",
       "3    0   5   4   3   3   3   5\n",
       "4    0   5   4   3   3   3   5\n",
       "..  ..  ..  ..  ..  ..  ..  ..\n",
       "124  1   5   2   4   4   2   3\n",
       "125  0   5   3   3   4   4   5\n",
       "126  0   5   3   3   4   4   4\n",
       "127  0   3   2   3   3   5   4\n",
       "128  0   4   1   3   3   3   4\n",
       "\n",
       "[129 rows x 7 columns]"
      ]
     },
     "execution_count": 4,
     "metadata": {},
     "output_type": "execute_result"
    }
   ],
   "source": [
    "df"
   ]
  },
  {
   "cell_type": "code",
   "execution_count": 5,
   "id": "b4f584ef",
   "metadata": {},
   "outputs": [
    {
     "data": {
      "text/plain": [
       "129"
      ]
     },
     "execution_count": 5,
     "metadata": {},
     "output_type": "execute_result"
    }
   ],
   "source": [
    "total=df.shape[0]\n",
    "total"
   ]
  },
  {
   "cell_type": "code",
   "execution_count": 6,
   "id": "a8b06f1b",
   "metadata": {},
   "outputs": [
    {
     "data": {
      "text/plain": [
       "59"
      ]
     },
     "execution_count": 6,
     "metadata": {},
     "output_type": "execute_result"
    }
   ],
   "source": [
    "fzero=df['D'][df['D'] == 0].count()\n",
    "fzero"
   ]
  },
  {
   "cell_type": "code",
   "execution_count": 7,
   "id": "db160dde",
   "metadata": {},
   "outputs": [
    {
     "data": {
      "text/plain": [
       "70"
      ]
     },
     "execution_count": 7,
     "metadata": {},
     "output_type": "execute_result"
    }
   ],
   "source": [
    "fone=df['D'][df['D']==1].count()\n",
    "fone"
   ]
  },
  {
   "cell_type": "code",
   "execution_count": 8,
   "id": "b3d501ef",
   "metadata": {},
   "outputs": [
    {
     "data": {
      "text/plain": [
       "0.4573643410852713"
      ]
     },
     "execution_count": 8,
     "metadata": {},
     "output_type": "execute_result"
    }
   ],
   "source": [
    "pzero=fzero/total\n",
    "pzero"
   ]
  },
  {
   "cell_type": "code",
   "execution_count": 9,
   "id": "34906b8c",
   "metadata": {},
   "outputs": [
    {
     "data": {
      "text/plain": [
       "0.5426356589147286"
      ]
     },
     "execution_count": 9,
     "metadata": {},
     "output_type": "execute_result"
    }
   ],
   "source": [
    "pone=fone/total\n",
    "pone"
   ]
  },
  {
   "cell_type": "code",
   "execution_count": 10,
   "id": "f50de170",
   "metadata": {},
   "outputs": [
    {
     "data": {
      "text/plain": [
       "array([[0., 0., 0., 0., 0., 0.],\n",
       "       [0., 0., 0., 0., 0., 0.],\n",
       "       [0., 0., 0., 0., 0., 0.],\n",
       "       [0., 0., 0., 0., 0., 0.],\n",
       "       [0., 0., 0., 0., 0., 0.]])"
      ]
     },
     "execution_count": 10,
     "metadata": {},
     "output_type": "execute_result"
    }
   ],
   "source": [
    "czero=np.zeros((5,6))\n",
    "czero"
   ]
  },
  {
   "cell_type": "code",
   "execution_count": 11,
   "id": "07814350",
   "metadata": {},
   "outputs": [
    {
     "data": {
      "text/plain": [
       "array([[0., 0., 0., 0., 0., 0.],\n",
       "       [0., 0., 0., 0., 0., 0.],\n",
       "       [0., 0., 0., 0., 0., 0.],\n",
       "       [0., 0., 0., 0., 0., 0.],\n",
       "       [0., 0., 0., 0., 0., 0.]])"
      ]
     },
     "execution_count": 11,
     "metadata": {},
     "output_type": "execute_result"
    }
   ],
   "source": [
    "cone=np.zeros((5,6))\n",
    "cone\n"
   ]
  },
  {
   "cell_type": "code",
   "execution_count": 12,
   "id": "79495a7f",
   "metadata": {},
   "outputs": [
    {
     "data": {
      "text/plain": [
       "7"
      ]
     },
     "execution_count": 12,
     "metadata": {},
     "output_type": "execute_result"
    }
   ],
   "source": [
    "df['X1'][df['D']==1][df['X1']==3].count()"
   ]
  },
  {
   "cell_type": "code",
   "execution_count": 13,
   "id": "048e3627",
   "metadata": {},
   "outputs": [
    {
     "data": {
      "text/plain": [
       "5    62\n",
       "4    43\n",
       "3    23\n",
       "1     1\n",
       "Name: X1, dtype: int64"
      ]
     },
     "execution_count": 13,
     "metadata": {},
     "output_type": "execute_result"
    }
   ],
   "source": [
    "df.X1.value_counts()"
   ]
  },
  {
   "cell_type": "code",
   "execution_count": 14,
   "id": "038e4846",
   "metadata": {},
   "outputs": [
    {
     "data": {
      "text/plain": [
       "3    40\n",
       "2    37\n",
       "1    28\n",
       "4    18\n",
       "5     6\n",
       "Name: X2, dtype: int64"
      ]
     },
     "execution_count": 14,
     "metadata": {},
     "output_type": "execute_result"
    }
   ],
   "source": [
    "df.X2.value_counts()"
   ]
  },
  {
   "cell_type": "code",
   "execution_count": 15,
   "id": "e646771a",
   "metadata": {},
   "outputs": [
    {
     "data": {
      "text/plain": [
       "3    59\n",
       "4    33\n",
       "2    16\n",
       "5    15\n",
       "1     6\n",
       "Name: X3, dtype: int64"
      ]
     },
     "execution_count": 15,
     "metadata": {},
     "output_type": "execute_result"
    }
   ],
   "source": [
    "df.X3.value_counts()"
   ]
  },
  {
   "cell_type": "code",
   "execution_count": 16,
   "id": "428d99f6",
   "metadata": {},
   "outputs": [
    {
     "data": {
      "text/plain": [
       "4    51\n",
       "3    48\n",
       "5    23\n",
       "2     6\n",
       "1     1\n",
       "Name: X4, dtype: int64"
      ]
     },
     "execution_count": 16,
     "metadata": {},
     "output_type": "execute_result"
    }
   ],
   "source": [
    "df.X4.value_counts()"
   ]
  },
  {
   "cell_type": "code",
   "execution_count": 17,
   "id": "49e37700",
   "metadata": {},
   "outputs": [
    {
     "data": {
      "text/plain": [
       "4    52\n",
       "5    28\n",
       "3    26\n",
       "2    17\n",
       "1     6\n",
       "Name: X5, dtype: int64"
      ]
     },
     "execution_count": 17,
     "metadata": {},
     "output_type": "execute_result"
    }
   ],
   "source": [
    "df.X5.value_counts()"
   ]
  },
  {
   "cell_type": "code",
   "execution_count": 18,
   "id": "0501dd3a",
   "metadata": {},
   "outputs": [
    {
     "data": {
      "text/plain": [
       "5    54\n",
       "4    52\n",
       "3    21\n",
       "2     1\n",
       "1     1\n",
       "Name: X6, dtype: int64"
      ]
     },
     "execution_count": 18,
     "metadata": {},
     "output_type": "execute_result"
    }
   ],
   "source": [
    "df.X6.value_counts()"
   ]
  },
  {
   "cell_type": "code",
   "execution_count": null,
   "id": "bf31e76f",
   "metadata": {},
   "outputs": [],
   "source": []
  },
  {
   "cell_type": "code",
   "execution_count": 19,
   "id": "0f8bdafd",
   "metadata": {},
   "outputs": [
    {
     "data": {
      "text/plain": [
       "'X1'"
      ]
     },
     "execution_count": 19,
     "metadata": {},
     "output_type": "execute_result"
    }
   ],
   "source": [
    "'X'+str(1)"
   ]
  },
  {
   "cell_type": "code",
   "execution_count": 20,
   "id": "910ae555",
   "metadata": {},
   "outputs": [
    {
     "data": {
      "text/plain": [
       "array([[ 1., 15.,  4.,  0.,  5.,  1.],\n",
       "       [ 0., 14.,  7.,  5.,  9.,  1.],\n",
       "       [16., 18., 34., 24., 15., 16.],\n",
       "       [25., 10.,  9., 21., 22., 24.],\n",
       "       [17.,  2.,  5.,  9.,  8., 17.]])"
      ]
     },
     "execution_count": 20,
     "metadata": {},
     "output_type": "execute_result"
    }
   ],
   "source": [
    "for i in range(0,6):\n",
    "    for j in range(0,5):\n",
    "        czero[j][i]=df['X'+str(i+1)][df['D']==0][df['X'+str(i+1)]==j+1].count()\n",
    "czero"
   ]
  },
  {
   "cell_type": "code",
   "execution_count": 21,
   "id": "067724bd",
   "metadata": {},
   "outputs": [],
   "source": [
    "for i in range(0,6):\n",
    "    for j in range(0,5):\n",
    "        cone[j][i]=df['X' +str(i+1)][df['D']==1][df['X' +str(i+1)]==j+1].count()"
   ]
  },
  {
   "cell_type": "code",
   "execution_count": 22,
   "id": "22bc1fcf",
   "metadata": {},
   "outputs": [
    {
     "data": {
      "text/plain": [
       "array([[ 0., 13.,  2.,  1.,  1.,  0.],\n",
       "       [ 0., 23.,  9.,  1.,  8.,  0.],\n",
       "       [ 7., 22., 25., 24., 11.,  5.],\n",
       "       [18.,  8., 24., 30., 30., 28.],\n",
       "       [45.,  4., 10., 14., 20., 37.]])"
      ]
     },
     "execution_count": 22,
     "metadata": {},
     "output_type": "execute_result"
    }
   ],
   "source": [
    "cone"
   ]
  },
  {
   "cell_type": "code",
   "execution_count": 23,
   "id": "a5093b3c",
   "metadata": {},
   "outputs": [],
   "source": [
    "zeroprobzero=np.zeros((6))\n",
    "oneprobzero=np.zeros((6))"
   ]
  },
  {
   "cell_type": "code",
   "execution_count": 24,
   "id": "523cc7f1",
   "metadata": {},
   "outputs": [
    {
     "data": {
      "text/plain": [
       "array([1., 0., 0., 1., 0., 0.])"
      ]
     },
     "execution_count": 24,
     "metadata": {},
     "output_type": "execute_result"
    }
   ],
   "source": [
    "for i in range(0,5):\n",
    "    for j in range(0,6):\n",
    "        if(czero[i][j]==0):\n",
    "            zeroprobzero[j]=zeroprobzero[j]+1\n",
    "zeroprobzero"
   ]
  },
  {
   "cell_type": "code",
   "execution_count": 25,
   "id": "4ab77f58",
   "metadata": {},
   "outputs": [
    {
     "data": {
      "text/plain": [
       "array([2., 0., 0., 0., 0., 2.])"
      ]
     },
     "execution_count": 25,
     "metadata": {},
     "output_type": "execute_result"
    }
   ],
   "source": [
    "for i in range(0,5):\n",
    "    for j in range(0,6):\n",
    "        if(cone[i][j]==0):\n",
    "            oneprobzero[j]=oneprobzero[j]+1\n",
    "oneprobzero"
   ]
  },
  {
   "cell_type": "code",
   "execution_count": 26,
   "id": "14b84340",
   "metadata": {},
   "outputs": [],
   "source": [
    "czeroprob=np.zeros((5,6))"
   ]
  },
  {
   "cell_type": "code",
   "execution_count": 27,
   "id": "55af715c",
   "metadata": {},
   "outputs": [
    {
     "data": {
      "text/plain": [
       "array([[ 0., 13.,  2.,  1.,  1.,  0.],\n",
       "       [ 0., 23.,  9.,  1.,  8.,  0.],\n",
       "       [ 7., 22., 25., 24., 11.,  5.],\n",
       "       [18.,  8., 24., 30., 30., 28.],\n",
       "       [45.,  4., 10., 14., 20., 37.]])"
      ]
     },
     "execution_count": 27,
     "metadata": {},
     "output_type": "execute_result"
    }
   ],
   "source": [
    "coneprob=np.zeros((5,6))\n",
    "cone"
   ]
  },
  {
   "cell_type": "code",
   "execution_count": 28,
   "id": "02c99648",
   "metadata": {
    "scrolled": true
   },
   "outputs": [
    {
     "data": {
      "text/plain": [
       "array([[0.03125   , 0.25423729, 0.06779661, 0.015625  , 0.08474576,\n",
       "        0.01694915],\n",
       "       [0.015625  , 0.23728814, 0.11864407, 0.09375   , 0.15254237,\n",
       "        0.01694915],\n",
       "       [0.265625  , 0.30508475, 0.57627119, 0.390625  , 0.25423729,\n",
       "        0.27118644],\n",
       "       [0.40625   , 0.16949153, 0.15254237, 0.34375   , 0.37288136,\n",
       "        0.40677966],\n",
       "       [0.28125   , 0.03389831, 0.08474576, 0.15625   , 0.13559322,\n",
       "        0.28813559]])"
      ]
     },
     "execution_count": 28,
     "metadata": {},
     "output_type": "execute_result"
    }
   ],
   "source": [
    "for n in range(0,6):\n",
    "    if(zeroprobzero[n]>0):\n",
    "        for j in range(0,5):\n",
    "            czeroprob[j][n]=(czero[j][n]+1)/(fzero+5)\n",
    "    else:\n",
    "        for j in range(0,5):\n",
    "            czeroprob[j][n]=(czero[j][n]/fzero)\n",
    "            \n",
    "czeroprob"
   ]
  },
  {
   "cell_type": "code",
   "execution_count": 29,
   "id": "4606e83a",
   "metadata": {},
   "outputs": [
    {
     "data": {
      "text/plain": [
       "array([[0.01333333, 0.18571429, 0.02857143, 0.01428571, 0.01428571,\n",
       "        0.01333333],\n",
       "       [0.01333333, 0.32857143, 0.12857143, 0.01428571, 0.11428571,\n",
       "        0.01333333],\n",
       "       [0.10666667, 0.31428571, 0.35714286, 0.34285714, 0.15714286,\n",
       "        0.08      ],\n",
       "       [0.25333333, 0.11428571, 0.34285714, 0.42857143, 0.42857143,\n",
       "        0.38666667],\n",
       "       [0.61333333, 0.05714286, 0.14285714, 0.2       , 0.28571429,\n",
       "        0.50666667]])"
      ]
     },
     "execution_count": 29,
     "metadata": {},
     "output_type": "execute_result"
    }
   ],
   "source": [
    "for n in range(0,6):\n",
    "    if(oneprobzero[n]>0):\n",
    "        for j in range(0,5):\n",
    "            coneprob[j][n]=(cone[j][n]+1)/(fone+5)\n",
    "    else:\n",
    "        for j in range(0,5):\n",
    "            coneprob[j][n]=(cone[j][n]/fone)\n",
    "            \n",
    "coneprob"
   ]
  },
  {
   "cell_type": "code",
   "execution_count": null,
   "id": "533a1df6",
   "metadata": {},
   "outputs": [],
   "source": []
  },
  {
   "cell_type": "code",
   "execution_count": null,
   "id": "5e100cff",
   "metadata": {},
   "outputs": [],
   "source": []
  },
  {
   "cell_type": "code",
   "execution_count": 30,
   "id": "f65e0f4e",
   "metadata": {},
   "outputs": [],
   "source": [
    "#Testphase,prepare confusion matrix and find precision,recall,accuracy and error rate"
   ]
  },
  {
   "cell_type": "code",
   "execution_count": null,
   "id": "872d9a62",
   "metadata": {},
   "outputs": [],
   "source": []
  },
  {
   "cell_type": "code",
   "execution_count": 31,
   "id": "336c8e57",
   "metadata": {},
   "outputs": [],
   "source": [
    "tf=pd.read_csv(\"test3.csv\")"
   ]
  },
  {
   "cell_type": "code",
   "execution_count": 32,
   "id": "7eafde80",
   "metadata": {},
   "outputs": [
    {
     "data": {
      "text/html": [
       "<div>\n",
       "<style scoped>\n",
       "    .dataframe tbody tr th:only-of-type {\n",
       "        vertical-align: middle;\n",
       "    }\n",
       "\n",
       "    .dataframe tbody tr th {\n",
       "        vertical-align: top;\n",
       "    }\n",
       "\n",
       "    .dataframe thead th {\n",
       "        text-align: right;\n",
       "    }\n",
       "</style>\n",
       "<table border=\"1\" class=\"dataframe\">\n",
       "  <thead>\n",
       "    <tr style=\"text-align: right;\">\n",
       "      <th></th>\n",
       "      <th>D</th>\n",
       "      <th>X1</th>\n",
       "      <th>X2</th>\n",
       "      <th>X3</th>\n",
       "      <th>X4</th>\n",
       "      <th>X5</th>\n",
       "      <th>X6</th>\n",
       "    </tr>\n",
       "  </thead>\n",
       "  <tbody>\n",
       "    <tr>\n",
       "      <th>0</th>\n",
       "      <td>0</td>\n",
       "      <td>5</td>\n",
       "      <td>1</td>\n",
       "      <td>4</td>\n",
       "      <td>4</td>\n",
       "      <td>4</td>\n",
       "      <td>5</td>\n",
       "    </tr>\n",
       "    <tr>\n",
       "      <th>1</th>\n",
       "      <td>0</td>\n",
       "      <td>5</td>\n",
       "      <td>2</td>\n",
       "      <td>2</td>\n",
       "      <td>4</td>\n",
       "      <td>4</td>\n",
       "      <td>5</td>\n",
       "    </tr>\n",
       "    <tr>\n",
       "      <th>2</th>\n",
       "      <td>0</td>\n",
       "      <td>5</td>\n",
       "      <td>3</td>\n",
       "      <td>5</td>\n",
       "      <td>4</td>\n",
       "      <td>5</td>\n",
       "      <td>5</td>\n",
       "    </tr>\n",
       "    <tr>\n",
       "      <th>3</th>\n",
       "      <td>1</td>\n",
       "      <td>3</td>\n",
       "      <td>4</td>\n",
       "      <td>4</td>\n",
       "      <td>5</td>\n",
       "      <td>1</td>\n",
       "      <td>3</td>\n",
       "    </tr>\n",
       "    <tr>\n",
       "      <th>4</th>\n",
       "      <td>1</td>\n",
       "      <td>5</td>\n",
       "      <td>1</td>\n",
       "      <td>5</td>\n",
       "      <td>5</td>\n",
       "      <td>5</td>\n",
       "      <td>5</td>\n",
       "    </tr>\n",
       "    <tr>\n",
       "      <th>5</th>\n",
       "      <td>1</td>\n",
       "      <td>4</td>\n",
       "      <td>3</td>\n",
       "      <td>3</td>\n",
       "      <td>4</td>\n",
       "      <td>4</td>\n",
       "      <td>4</td>\n",
       "    </tr>\n",
       "    <tr>\n",
       "      <th>6</th>\n",
       "      <td>1</td>\n",
       "      <td>5</td>\n",
       "      <td>5</td>\n",
       "      <td>1</td>\n",
       "      <td>1</td>\n",
       "      <td>5</td>\n",
       "      <td>1</td>\n",
       "    </tr>\n",
       "    <tr>\n",
       "      <th>7</th>\n",
       "      <td>0</td>\n",
       "      <td>4</td>\n",
       "      <td>4</td>\n",
       "      <td>4</td>\n",
       "      <td>4</td>\n",
       "      <td>1</td>\n",
       "      <td>3</td>\n",
       "    </tr>\n",
       "    <tr>\n",
       "      <th>8</th>\n",
       "      <td>1</td>\n",
       "      <td>5</td>\n",
       "      <td>2</td>\n",
       "      <td>3</td>\n",
       "      <td>4</td>\n",
       "      <td>4</td>\n",
       "      <td>3</td>\n",
       "    </tr>\n",
       "    <tr>\n",
       "      <th>9</th>\n",
       "      <td>0</td>\n",
       "      <td>5</td>\n",
       "      <td>3</td>\n",
       "      <td>3</td>\n",
       "      <td>1</td>\n",
       "      <td>3</td>\n",
       "      <td>5</td>\n",
       "    </tr>\n",
       "    <tr>\n",
       "      <th>10</th>\n",
       "      <td>1</td>\n",
       "      <td>5</td>\n",
       "      <td>2</td>\n",
       "      <td>3</td>\n",
       "      <td>4</td>\n",
       "      <td>2</td>\n",
       "      <td>5</td>\n",
       "    </tr>\n",
       "    <tr>\n",
       "      <th>11</th>\n",
       "      <td>1</td>\n",
       "      <td>5</td>\n",
       "      <td>3</td>\n",
       "      <td>3</td>\n",
       "      <td>4</td>\n",
       "      <td>4</td>\n",
       "      <td>5</td>\n",
       "    </tr>\n",
       "    <tr>\n",
       "      <th>12</th>\n",
       "      <td>0</td>\n",
       "      <td>4</td>\n",
       "      <td>3</td>\n",
       "      <td>3</td>\n",
       "      <td>4</td>\n",
       "      <td>4</td>\n",
       "      <td>5</td>\n",
       "    </tr>\n",
       "    <tr>\n",
       "      <th>13</th>\n",
       "      <td>0</td>\n",
       "      <td>5</td>\n",
       "      <td>3</td>\n",
       "      <td>2</td>\n",
       "      <td>5</td>\n",
       "      <td>5</td>\n",
       "      <td>5</td>\n",
       "    </tr>\n",
       "  </tbody>\n",
       "</table>\n",
       "</div>"
      ],
      "text/plain": [
       "    D  X1  X2  X3  X4  X5  X6\n",
       "0   0   5   1   4   4   4   5\n",
       "1   0   5   2   2   4   4   5\n",
       "2   0   5   3   5   4   5   5\n",
       "3   1   3   4   4   5   1   3\n",
       "4   1   5   1   5   5   5   5\n",
       "5   1   4   3   3   4   4   4\n",
       "6   1   5   5   1   1   5   1\n",
       "7   0   4   4   4   4   1   3\n",
       "8   1   5   2   3   4   4   3\n",
       "9   0   5   3   3   1   3   5\n",
       "10  1   5   2   3   4   2   5\n",
       "11  1   5   3   3   4   4   5\n",
       "12  0   4   3   3   4   4   5\n",
       "13  0   5   3   2   5   5   5"
      ]
     },
     "execution_count": 32,
     "metadata": {},
     "output_type": "execute_result"
    }
   ],
   "source": [
    "tf"
   ]
  },
  {
   "cell_type": "code",
   "execution_count": 33,
   "id": "2db1c499",
   "metadata": {},
   "outputs": [
    {
     "data": {
      "text/plain": [
       "14"
      ]
     },
     "execution_count": 33,
     "metadata": {},
     "output_type": "execute_result"
    }
   ],
   "source": [
    "ttotal=tf.shape[0]\n",
    "ttotal"
   ]
  },
  {
   "cell_type": "code",
   "execution_count": 34,
   "id": "5c93607b",
   "metadata": {},
   "outputs": [],
   "source": [
    "#Confusion matrix"
   ]
  },
  {
   "cell_type": "code",
   "execution_count": 35,
   "id": "5a25bd21",
   "metadata": {},
   "outputs": [],
   "source": [
    "tp=0\n",
    "tn=0\n",
    "fp=0\n",
    "fn=0\n",
    "for n in range(0,ttotal):\n",
    "    a=1\n",
    "    b=1\n",
    "    for i in range(1,6):\n",
    "        k=tf.at[n,'X'+str(i)]\n",
    "        a=a*czeroprob[k-1][i-1]\n",
    "        b=b*coneprob[k-1][i-1]\n",
    "        if i==5:\n",
    "            break\n",
    "    a=a*pzero\n",
    "    b=b*pone\n",
    "        \n",
    "    if (a>b):\n",
    "        predict=0\n",
    "    else:\n",
    "        predict=1\n",
    "        #print(d)\n",
    "    d=tf.at[n,'D']\n",
    "    if(d==1 and predict==1):\n",
    "        tp=tp+1\n",
    "    elif(d==1 and predict==0):\n",
    "        tn=tn+1\n",
    "    elif(d==0 and predict==1):\n",
    "        fp=fp+1\n",
    "    else:\n",
    "        fn=fn+1\n",
    "            \n",
    "            #print(\"tp=\",tp)\n",
    "            #print(\"tn=\",tn)\n",
    "            #print(\"fp=\",fp)\n",
    "            #print(\"fn=\",fn)\n",
    "        \n"
   ]
  },
  {
   "cell_type": "code",
   "execution_count": 36,
   "id": "00f8f7c9",
   "metadata": {},
   "outputs": [
    {
     "data": {
      "text/plain": [
       "array([[5, 4],\n",
       "       [3, 2]])"
      ]
     },
     "execution_count": 36,
     "metadata": {},
     "output_type": "execute_result"
    }
   ],
   "source": [
    "confusion=np.array([[tp,fp],[fn,tn]])\n",
    "confusion"
   ]
  },
  {
   "cell_type": "code",
   "execution_count": 37,
   "id": "391ef339",
   "metadata": {},
   "outputs": [
    {
     "name": "stdout",
     "output_type": "stream",
     "text": [
      "accuracy =  0.5\n"
     ]
    }
   ],
   "source": [
    "#Accuracy\n",
    "accuracy=(tp+tn)/(tp+tn+fp+fn)\n",
    "print(\"accuracy = \",accuracy)\n"
   ]
  },
  {
   "cell_type": "code",
   "execution_count": 38,
   "id": "c052f6f5",
   "metadata": {},
   "outputs": [
    {
     "name": "stdout",
     "output_type": "stream",
     "text": [
      "error_rate = 0.5\n"
     ]
    }
   ],
   "source": [
    "#Error rate\n",
    "error_rate=1-accuracy\n",
    "print(\"error_rate =\",error_rate)"
   ]
  },
  {
   "cell_type": "code",
   "execution_count": 39,
   "id": "75342f35",
   "metadata": {},
   "outputs": [
    {
     "name": "stdout",
     "output_type": "stream",
     "text": [
      "precision=  0.5555555555555556\n"
     ]
    }
   ],
   "source": [
    "#Precision\n",
    "precision=tp/(tp+fp)\n",
    "print(\"precision= \",precision)\n",
    "\n"
   ]
  },
  {
   "cell_type": "code",
   "execution_count": 40,
   "id": "c9200229",
   "metadata": {},
   "outputs": [
    {
     "name": "stdout",
     "output_type": "stream",
     "text": [
      "recall=  0.625\n"
     ]
    }
   ],
   "source": [
    "#Recall\n",
    "recall=tp/(tp+fn)\n",
    "print(\"recall= \",recall)"
   ]
  },
  {
   "cell_type": "code",
   "execution_count": null,
   "id": "cf74e8da",
   "metadata": {},
   "outputs": [],
   "source": []
  }
 ],
 "metadata": {
  "kernelspec": {
   "display_name": "Python 3 (ipykernel)",
   "language": "python",
   "name": "python3"
  },
  "language_info": {
   "codemirror_mode": {
    "name": "ipython",
    "version": 3
   },
   "file_extension": ".py",
   "mimetype": "text/x-python",
   "name": "python",
   "nbconvert_exporter": "python",
   "pygments_lexer": "ipython3",
   "version": "3.9.7"
  }
 },
 "nbformat": 4,
 "nbformat_minor": 5
}
